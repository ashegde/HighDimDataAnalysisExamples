{
 "cells": [
  {
   "cell_type": "code",
   "execution_count": 5,
   "metadata": {},
   "outputs": [],
   "source": [
    "import numpy as np\n",
    "import matplotlib.pyplot as plt\n",
    "%matplotlib inline\n",
    "from ipywidgets import interact, widgets\n",
    "from IPython.display import display\n",
    "import scipy.linalg\n",
    "from IPython import display\n",
    "import pywt\n",
    "from skimage import data\n",
    "import skimage\n",
    "\n",
    "import pdb"
   ]
  },
  {
   "cell_type": "markdown",
   "metadata": {},
   "source": [
    "#  Proximal gradient methods for LASSO \n",
    "\n",
    "In previous notebooks, we used the projected gradient method. Although the algorithm was successful, it required many iterations and lengthy computation time. Here, we switch to proximal gradient methods. Recall, the Lasso formulation is given by:\n",
    "\n",
    "$$\\min_{\\boldsymbol x} \\frac{1}{2} \\|\\boldsymbol y- \\boldsymbol A \\boldsymbol x\\|_2^2 + \\lambda \\|\\boldsymbol x\\|_1 $$\n",
    "\n",
    "Given $\\boldsymbol y \\in R^m$, $\\boldsymbol A\\in R^{mxn}$ and $\\boldsymbol x \\in R^n$ \n",
    "\n",
    "The Proximal Gradient Method for Lasso (also called the Iterative Shrinkage Thresholding Algorithm (ISTA)) is given by: \n",
    "\n",
    "__Input:__ $\\boldsymbol x_0 \\in R^n$ and $L \\geq \\lambda_{max}(\\boldsymbol A^* \\boldsymbol A)$ <br>\n",
    "__while__ $\\boldsymbol x_k$ not converged (k=1,2, ...) __do__ <br>\n",
    "> $\\boldsymbol w_k \\leftarrow x_k - \\frac{1}{L}\\boldsymbol A^* (\\boldsymbol A \\boldsymbol x_k -\\boldsymbol y)$ <br>\n",
    "$\\boldsymbol x_{k+1} \\leftarrow $ soft$(\\boldsymbol w_k, \\lambda/L)$ \n",
    "\n",
    "__end while__ <br>\n",
    "__Output: $\\boldsymbol x_* \\leftarrow \\boldsymbol x_k$__"
   ]
  },
  {
   "cell_type": "code",
   "execution_count": 6,
   "metadata": {},
   "outputs": [],
   "source": [
    "def soft(w,t):\n",
    "    wnew = np.zeros(len(w))\n",
    "    for kk in range(len(w)):\n",
    "        wnew[kk] = np.sign(w[kk])*np.max([np.abs(w[kk])-t,0])\n",
    "    return wnew\n",
    "\n",
    "def ista(A,y,lam, x0,L,tol):\n",
    "    x = [x0]\n",
    "    At = np.transpose(A)\n",
    "    isConverged = False\n",
    "    while (not isConverged):\n",
    "        w = x[-1] - 1/L *At.dot(A.dot(x[-1])-y)\n",
    "        xNew = [soft(w, lam/L)] \n",
    "        x = np.vstack((x,xNew))\n",
    "\n",
    "        if np.linalg.norm(x[-1]-x[-2]) <= tol:\n",
    "            isConverged = True\n",
    "    return x\n"
   ]
  },
  {
   "cell_type": "markdown",
   "metadata": {},
   "source": [
    "An accelerated version of this algorithm, sometimes called the Fast Iterative Shrinkage Thresholding Algorithm (FISTA), is shown below: \n",
    "\n",
    "\n",
    "__Input:__ $\\boldsymbol x_0 \\in R^n$, $\\boldsymbol p_1 \\leftarrow \\boldsymbol x_0$, $t_1 \\leftarrow 1 $and $L \\geq \\lambda_{max}(\\boldsymbol A^* \\boldsymbol A)$ <br>\n",
    "__while__ $\\boldsymbol x_k$ not converged (k=1,2, ...) __do__ <br>\n",
    "> $\\boldsymbol w_k \\leftarrow \\boldsymbol p_k -\\frac{1}{L} \\boldsymbol A^*(\\boldsymbol A \\boldsymbol p_k -y)$ <br>\n",
    "$\\boldsymbol x_{k+1} \\leftarrow $ soft$(\\boldsymbol w_k, \\lambda/L)$ <br>\n",
    "$t_{k+1} \\leftarrow \\frac{1+\\sqrt{1+4t_k^2}}{2}; \\beta_{k+1} \\leftarrow \\frac{t_{k}-1}{t_{k+1}}$ <br>\n",
    "$\\boldsymbol p_{k+1} \\leftarrow \\boldsymbol x_{k+1} + \\beta_{k+1} (\\boldsymbol x_{k+1} - \\boldsymbol x_k)$\n",
    "\n",
    "\n",
    "__end while__ <br>\n",
    "__Output: $\\boldsymbol x_* \\leftarrow \\boldsymbol x_k$__"
   ]
  },
  {
   "cell_type": "code",
   "execution_count": 7,
   "metadata": {},
   "outputs": [],
   "source": [
    "def fista(A,y,lam, x0,L,tol):\n",
    "    x = [x0]\n",
    "    p = [x0]\n",
    "    tOld = 1\n",
    "    At = np.transpose(A)\n",
    "    isConverged = False\n",
    "    while (not isConverged):\n",
    "        w = p[-1] - 1/L *At.dot(A.dot(p[-1])-y)\n",
    "        xNew = [soft(w, lam/L)]\n",
    "        x = np.vstack((x,xNew))\n",
    "        tNew = (1+np.sqrt(1+4*tOld**2))/2\n",
    "        beta = (tOld-1)/tNew\n",
    "        pNew = x[-1] + beta*(x[-1]-x[-2])\n",
    "        p = np.vstack((p,pNew))\n",
    "        tOld = tNew\n",
    "        if np.linalg.norm(x[-1]-x[-2]) <= tol:\n",
    "            isConverged = True\n",
    "    return x \n"
   ]
  },
  {
   "cell_type": "markdown",
   "metadata": {},
   "source": [
    "And we have the projected subgradient method from previous notebooks."
   ]
  },
  {
   "cell_type": "code",
   "execution_count": 8,
   "metadata": {},
   "outputs": [],
   "source": [
    "def pgd(A,y,x0, tol):\n",
    "    m = A.shape[0]\n",
    "    n = A.shape[1]\n",
    "    At = np.transpose(A)\n",
    "    AAt = np.matmul(A,At)\n",
    "    AtinvAAt = np.matmul(At,np.linalg.pinv(AAt))\n",
    "    P = np.identity(n) - np.matmul(AtinvAAt,A)\n",
    "    xTilde = AtinvAAt.dot(y)\n",
    "    f = np.array([np.linalg.norm(x0, ord=1)])\n",
    "    x= np.array([x0])\n",
    "    t=0\n",
    "    isConverged = False\n",
    "    while (not isConverged):\n",
    "        t = t+1\n",
    "        xNew = np.array([xTilde + P.dot(x[-1] - 1/t* np.sign(x[-1]))])\n",
    "        x = np.vstack((x,xNew))\n",
    "        f = np.vstack((f,np.linalg.norm(x[-1],ord=1)))\n",
    "        if np.linalg.norm(x[-1]-x[-2]) <= tol:\n",
    "            isConverged = True\n",
    "    return x"
   ]
  },
  {
   "cell_type": "markdown",
   "metadata": {},
   "source": [
    "First we compare the convergence of the three methods (projected subgradient method, ISTA, FISTA, and ALM) on a simulated example with noise. I.e.,  \n",
    "\n",
    "$$\\boldsymbol y = \\boldsymbol A \\boldsymbol x + \\boldsymbol n$$\n",
    "\n"
   ]
  },
  {
   "cell_type": "code",
   "execution_count": 49,
   "metadata": {},
   "outputs": [],
   "source": [
    "n = 500 # Matrix size\n",
    "m = 100\n",
    "k = 10 # Number of nonzeros\n",
    "xTrue = np.concatenate((np.random.randn(k),np.zeros(n-k))) # Create sparse vector\n",
    "xTrue = xTrue[np.random.permutation(n)];\n",
    "A = np.random.randn(m,n) # Create Matrix A\n",
    "noise = 2*np.random.randn(m)\n",
    "\n",
    "y = A.dot(xTrue)+noise\n",
    "\n",
    "tol = 1e-3\n",
    "x0 = np.zeros(n)\n",
    "eigenvalues = np.linalg.eigvalsh(np.matmul(np.transpose(A),A))\n",
    "L = np.max(eigenvalues)\n",
    "lam = 40\n",
    "\n",
    "xPGD = pgd(A,y,x0,tol)\n",
    "xISTA = ista(A,y,lam,x0,L,tol)\n",
    "xFISTA = fista(A,y,lam,x0,L,tol)"
   ]
  },
  {
   "cell_type": "code",
   "execution_count": 50,
   "metadata": {},
   "outputs": [
    {
     "data": {
      "image/png": "[encoded data removed]",
      "text/plain": [
       "<Figure size 432x288 with 1 Axes>"
      ]
     },
     "metadata": {
      "needs_background": "light"
     },
     "output_type": "display_data"
    }
   ],
   "source": [
    "#Plot the recovery error.\n",
    "\n",
    "error_PGD = np.zeros(xPGD.shape[0])\n",
    "for ii in range(len(error_PGD)):\n",
    "    error_PGD[ii] = np.linalg.norm(xPGD[ii]-xTrue) / np.linalg.norm(xTrue)\n",
    "\n",
    "error_ISTA = np.zeros(xISTA.shape[0])\n",
    "for ii in range(len(error_ISTA)):\n",
    "    error_ISTA[ii] = np.linalg.norm(xISTA[ii]-xTrue) / np.linalg.norm(xTrue)\n",
    "\n",
    "error_FISTA = np.zeros(xFISTA.shape[0])\n",
    "for ii in range(len(error_FISTA)):\n",
    "    error_FISTA[ii] = np.linalg.norm(xFISTA[ii]-xTrue) / np.linalg.norm(xTrue)\n",
    "    \n",
    "maxiter = 100\n",
    "plt.semilogy(error_PGD[:maxiter],'r', label='PGD')\n",
    "plt.semilogy(error_ISTA[:maxiter],'b', label='ISTA')\n",
    "plt.semilogy(error_FISTA[:maxiter],'g', label='FISTA')\n",
    "plt.title('Convergence rates')\n",
    "plt.xlabel('iterations')\n",
    "plt.ylabel('error')\n",
    "plt.legend()\n",
    "plt.show()"
   ]
  },
  {
   "cell_type": "markdown",
   "metadata": {},
   "source": [
    "On this example, the projected gradient descent is the slowest to converge. It also convergest to a result with higher error, likely due to the added noise in the problem setup.\n",
    "\n",
    "While ISTA and FISTA converge faster to a result with lower error, they both require careful tuning of the $\\lambda$ (and possibly the $L$ parameter) in order to get good results.\n",
    "\n",
    "In all cases, noise prevents perfect recovery. "
   ]
  },
  {
   "cell_type": "code",
   "execution_count": 53,
   "metadata": {},
   "outputs": [
    {
     "data": {
      "image/png": "[encoded data removed]",
      "text/plain": [
       "<Figure size 432x288 with 1 Axes>"
      ]
     },
     "metadata": {
      "needs_background": "light"
     },
     "output_type": "display_data"
    }
   ],
   "source": [
    "#Recovery of PGD\n",
    "plt.stem(range(n), xTrue, 'g', label='Truth')\n",
    "plt.stem(range(n), xPGD[-1], 'r', label='PGD')\n",
    "plt.legend()\n",
    "plt.show()"
   ]
  },
  {
   "cell_type": "code",
   "execution_count": 51,
   "metadata": {
    "scrolled": true
   },
   "outputs": [
    {
     "data": {
      "image/png": "[encoded data removed]",
      "text/plain": [
       "<Figure size 432x288 with 1 Axes>"
      ]
     },
     "metadata": {
      "needs_background": "light"
     },
     "output_type": "display_data"
    }
   ],
   "source": [
    "#Recovery of FISTA\n",
    "plt.stem(range(n), xTrue, 'g')\n",
    "plt.stem(range(n), xFISTA[-1], 'r')\n",
    "plt.show()"
   ]
  }
 ],
 "metadata": {
  "kernelspec": {
   "display_name": "Python 3 (ipykernel)",
   "language": "python",
   "name": "python3"
  },
  "language_info": {
   "codemirror_mode": {
    "name": "ipython",
    "version": 3
   },
   "file_extension": ".py",
   "mimetype": "text/x-python",
   "name": "python",
   "nbconvert_exporter": "python",
   "pygments_lexer": "ipython3",
   "version": "3.9.7"
  }
 },
 "nbformat": 4,
 "nbformat_minor": 2
}
