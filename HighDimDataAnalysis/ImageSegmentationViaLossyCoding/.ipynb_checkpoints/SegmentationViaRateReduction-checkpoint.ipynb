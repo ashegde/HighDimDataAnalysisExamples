{
 "cells": [
  {
   "cell_type": "code",
   "execution_count": 1,
   "id": "b60ea1b8",
   "metadata": {},
   "outputs": [],
   "source": [
    "import numpy as np\n",
    "import matplotlib.pyplot as plt\n",
    "%matplotlib inline\n",
    "from ipywidgets import interact, widgets\n",
    "from IPython.display import display\n",
    "import scipy.linalg\n",
    "from IPython import display\n",
    "\n",
    "import pdb"
   ]
  },
  {
   "cell_type": "markdown",
   "id": "ecf4fe70",
   "metadata": {},
   "source": [
    "In this notebook, we explore the use of rate reduction as a tool for segmenting multivariate and multimodal data. The algorithms and content are based on the following reference:\n",
    "\n",
    "__Ma, Yi, et al. \"Segmentation of multivariate mixed data via lossy data coding and compression.\" IEEE transactions on pattern analysis and machine intelligence 29.9 (2007): 1546-1562.__"
   ]
  },
  {
   "cell_type": "markdown",
   "id": "2fdfdf54",
   "metadata": {},
   "source": [
    "Suppose we are given a dataset $\\boldsymbol W = [w_1, ..., w_m] \\in \\mathbb{R}^{n \\times m}$. We model the data vectors $w_i \\in \\mathbb{R}^n$ for $i=1,...,m$ as being drawn from $k$ possibly-degenerate Gaussian distributions. Here, $k$ may be unknown. Our goal is to determine an appropriate estimate for $k$ as well as a partitioning of the data points $w_i$ into the classes $1,...,k$.\n",
    "\n",
    "The algorithms in the above paper are based on the Gaussian coding length function $L(V)$:\n",
    "\n",
    "$L({\\boldsymbol V}) = \\frac{m+n}{2} \\log_2 \\det \\left( I + \\frac{n}{\\epsilon^2 m} VV^T \\right)$,\n",
    "\n",
    "where ${\\boldsymbol V} \\in \\mathbb{R}^{n \\times m}$ is some collection of points which have zero mean, i.e., $\\mu=\\frac{1}{m}\\sum_{i=1}^m v_i = 0$. In the above, $\\epsilon$ specifies the error or uncertainty radius around each data point. \n",
    "\n",
    "The coding length associated with a particular partitioning of the $m$ data vectors $w_i$ into multiple groups $W_1$,...,$W_k$ is then given by\n",
    "\n",
    "$L^s({\\boldsymbol W_1},...,{\\boldsymbol W_k}) = \\sum_{i=1}^k L({\\boldsymbol W_k}) + \\left| {\\boldsymbol W_i}\\right| \\times \\left(- \\log_2 \\left(\\frac{\\left|W_i\\right|}{m}\\right) \\right)$.\n",
    "\n",
    "where $|\\cdot|$ denotes the number of vectors in $\\cdot$. "
   ]
  },
  {
   "cell_type": "markdown",
   "id": "4802cd6a",
   "metadata": {},
   "source": [
    "In the notebook below, we implement Algorithm 1 from the above paper. \n",
    "\n",
    "__Algorithm 1: Pairwise Steepest Descent of Coding Length__\n",
    "\n",
    "__input:__ data $\\boldsymbol W = [ w_1, ..., w_m ]$, distortion $\\epsilon>0$.\n",
    "\n",
    "__initialize:__ $\\mathcal{S} = \\{S=\\{w\\} |w\\in {\\boldsymbol W} \\}$\n",
    "\n",
    "__while__ $\\left| \\mathcal{S} \\right| > 1$: <br>\n",
    ">Pick distinct sets $S_1, S_2 \\in \\mathcal{S}$ such that $L^s(S_1 \\cup S_2) - L^s (S_1,S_2)$ is minimized <br>\n",
    ">__if__ the corresponding $L^s(S_1 \\cup S_2) - L^s (S_1,S_2)>=0$, __then__ break <br>\n",
    ">__else__ $\\mathcal{S} := ( \\mathcal{S} \\backslash \\{S_1,S_2\\}) \\cup (\\{S_1,S_2\\})$\n",
    "\n",
    "__end while__ <br>\n",
    "\n",
    "__Output__: $\\mathcal{S}$"
   ]
  },
  {
   "cell_type": "code",
   "execution_count": 7,
   "id": "65384e84",
   "metadata": {},
   "outputs": [],
   "source": [
    "def codingLength(V,eps):\n",
    "    # data vectors are columns of V\n",
    "    n = V.shape[0]\n",
    "    m = V.shape[1]\n",
    "    \n",
    "    mu = np.mean(V, axis=1).reshape((n, 1))\n",
    "    Vbar = V-mu\n",
    "    R = (m+n)/2 * np.log2( np.linalg.det(np.eye(n) + n / (m*eps**2) * Vbar@Vbar.T ) ) + (n/2)*np.log2(1+mu.T@mu/(eps**2))\n",
    "    return R\n",
    "\n",
    "def groupCodingLength(W, eps):\n",
    "    #k = len(W)\n",
    "    m_tot = 0\n",
    "    \n",
    "    for Wi in W:\n",
    "        m_tot += Wi.shape[1]\n",
    "    R = 0\n",
    "    for Wi in W:\n",
    "        mi = Wi.shape[1]\n",
    "        R += codingLength(Wi, eps) + mi*(- np.log2(mi/m_tot))\n",
    "    return R\n",
    "\n",
    "def pickMinPair(S, eps):\n",
    "    k = len(S)\n",
    "    minPairIndex =(0,1)\n",
    "    min_Lij = np.inf\n",
    "    \n",
    "    for i in range(k):\n",
    "        Si = S[i]\n",
    "        for j in range(i):\n",
    "            Sj = S[j]\n",
    "            Lij = groupCodingLength([np.hstack((Si,Sj))], eps) - groupCodingLength([Si,Sj], eps)\n",
    "            if Lij < min_Lij:\n",
    "                min_Lij = Lij\n",
    "                minPairIndex = (i,j)\n",
    "                \n",
    "    return minPairIndex, min_Lij\n",
    "                \n",
    "            \n",
    "def pairwiseSteepestDescent(W, eps, opts):\n",
    "    n = W.shape[0]\n",
    "    m = W.shape[1]\n",
    "    S = [W[:,ii].reshape((-1,1)) for ii in range(m)] #initialize with singletons\n",
    "    count = 0\n",
    "    \n",
    "    while len(S) > 1:\n",
    "        idx, Lij = pickMinPair(S, eps)\n",
    "        if Lij > 0:\n",
    "            break\n",
    "        else:\n",
    "            # note idx[0] > idx[1], so popping idx[0] first does not affect the index of idx[1] in list S\n",
    "            S1 = S.pop(idx[0])\n",
    "            S2 = S.pop(idx[1])\n",
    "            S.append(np.hstack((S1,S2)))\n",
    "        count +=1\n",
    "        \n",
    "        if count>opts['maxIter']:\n",
    "            break\n",
    "        \n",
    "    return S"
   ]
  },
  {
   "cell_type": "markdown",
   "id": "3d7b919c",
   "metadata": {},
   "source": [
    "With the above algorithms implemented, we first test the performance on a simple 3D mixture of Gaussian clustering example.\n",
    "Then we move onto image segmentation using the methodology discussed in the above reference."
   ]
  },
  {
   "cell_type": "markdown",
   "id": "3846cc6f",
   "metadata": {},
   "source": [
    "## Toy example"
   ]
  },
  {
   "cell_type": "code",
   "execution_count": 25,
   "id": "2757babd",
   "metadata": {},
   "outputs": [],
   "source": [
    "n = 2\n",
    "\n",
    "A1 = np.random.randn(n,n)\n",
    "A2 = np.random.randn(n,n)\n",
    "A3 = np.random.randn(n,n)\n",
    "\n",
    "#covariance matrices \n",
    "C1 = A1.T@A1\n",
    "C2 = A2.T@A2\n",
    "C3 = A3.T@A3\n",
    "\n",
    "#means\n",
    "mu1 = np.random.randn(n)\n",
    "mu2 = np.random.randn(n)\n",
    "mu3 = np.random.randn(n)\n",
    "\n",
    "#samples\n",
    "m1 = 100\n",
    "m2 = 100\n",
    "m3 = 100\n",
    "\n",
    "sample1 = np.random.multivariate_normal(mu1, C1, size=m1).T\n",
    "sample2 = np.random.multivariate_normal(mu2, C2, size=m2).T\n",
    "sample3 = np.random.multivariate_normal(mu3, C3, size=m3).T"
   ]
  },
  {
   "cell_type": "code",
   "execution_count": 26,
   "id": "fd279ef0",
   "metadata": {},
   "outputs": [
    {
     "data": {
      "image/png": "[encoded data removed]",
      "text/plain": [
       "<Figure size 1080x360 with 2 Axes>"
      ]
     },
     "metadata": {
      "needs_background": "light"
     },
     "output_type": "display_data"
    }
   ],
   "source": [
    "#ground truth\n",
    "color1 = 'blue'\n",
    "color2 = 'red'\n",
    "color3 = 'green'\n",
    "fig, (ax1, ax2) = plt.subplots(figsize=(15,5), ncols=2)\n",
    "ax1.scatter(sample1[0,:],sample1[1,:],c=color1, label='group 1')\n",
    "ax1.scatter(sample2[0,:],sample2[1,:],c=color2, label='group 2')\n",
    "ax1.scatter(sample3[0,:],sample3[1,:],c=color3, label='group 3')\n",
    "ax1.set_title('ground truth')\n",
    "ax1.legend(loc='best')\n",
    "\n",
    "ax2.scatter(sample1[0,:],sample1[1,:],c='black')\n",
    "ax2.scatter(sample2[0,:],sample2[1,:],c='black')\n",
    "ax2.scatter(sample3[0,:],sample3[1,:],c='black')\n",
    "ax2.set_title('what the algorithm sees')\n",
    "\n",
    "plt.show()"
   ]
  },
  {
   "cell_type": "code",
   "execution_count": 28,
   "id": "479aa8cf",
   "metadata": {},
   "outputs": [],
   "source": [
    "# algorithm \n",
    "Win = np.hstack((sample1,sample2,sample3))"
   ]
  },
  {
   "cell_type": "code",
   "execution_count": 29,
   "id": "073366ca",
   "metadata": {},
   "outputs": [
    {
     "data": {
      "text/plain": [
       "(2, 300)"
      ]
     },
     "execution_count": 29,
     "metadata": {},
     "output_type": "execute_result"
    }
   ],
   "source": [
    "Win.shape"
   ]
  },
  {
   "cell_type": "code",
   "execution_count": 30,
   "id": "69b75375",
   "metadata": {
    "scrolled": true
   },
   "outputs": [],
   "source": [
    "epsilon = 0.1\n",
    "opts={'maxIter': 1e6}\n",
    "\n",
    "S = pairwiseSteepestDescent(Win, epsilon, opts)"
   ]
  },
  {
   "cell_type": "code",
   "execution_count": 31,
   "id": "fadcfde7",
   "metadata": {},
   "outputs": [
    {
     "data": {
      "image/png": "[encoded data removed]",
      "text/plain": [
       "<Figure size 360x360 with 1 Axes>"
      ]
     },
     "metadata": {
      "needs_background": "light"
     },
     "output_type": "display_data"
    }
   ],
   "source": [
    "## analyzing the results\n",
    "\n",
    "#estimated number of groups\n",
    "k = len(S)\n",
    "\n",
    "#autogen color scheme\n",
    "import colorsys\n",
    "HSV_tuples = [(i*1.0/k, 0.5, 0.5) for i in range(k)]\n",
    "RGB_tuples = list(map(lambda x: colorsys.hsv_to_rgb(*x), HSV_tuples))\n",
    "\n",
    "fig, ax = plt.subplots(figsize=(5,5))\n",
    "\n",
    "for i in range(k):\n",
    "    ax.scatter(S[i][0,:],S[i][1,:],color=RGB_tuples[i])\n",
    "ax.set_title('segmented')\n",
    "plt.show()"
   ]
  },
  {
   "cell_type": "markdown",
   "id": "4789b36b",
   "metadata": {},
   "source": [
    "## Segmentation of an image"
   ]
  },
  {
   "cell_type": "code",
   "execution_count": null,
   "id": "c6ca2817",
   "metadata": {},
   "outputs": [],
   "source": [
    "#In this example, we use the algorithm 1 to segment an image. We use the "
   ]
  }
 ],
 "metadata": {
  "kernelspec": {
   "display_name": "Python 3 (ipykernel)",
   "language": "python",
   "name": "python3"
  },
  "language_info": {
   "codemirror_mode": {
    "name": "ipython",
    "version": 3
   },
   "file_extension": ".py",
   "mimetype": "text/x-python",
   "name": "python",
   "nbconvert_exporter": "python",
   "pygments_lexer": "ipython3",
   "version": "3.9.7"
  }
 },
 "nbformat": 4,
 "nbformat_minor": 5
}
